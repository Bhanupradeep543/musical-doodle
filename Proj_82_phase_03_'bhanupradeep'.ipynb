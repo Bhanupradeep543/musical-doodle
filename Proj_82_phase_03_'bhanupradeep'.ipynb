{
 "cells": [
  {
   "cell_type": "code",
   "execution_count": 1,
   "id": "87afdc56",
   "metadata": {},
   "outputs": [],
   "source": [
    "import numpy as np\n",
    "import pandas as pd\n",
    "import seaborn as sb\n",
    "from sklearn.neighbors import KNeighborsClassifier\n",
    "from sklearn.metrics import confusion_matrix\n",
    "from sklearn.metrics import f1_score\n",
    "from sklearn.model_selection import train_test_split\n",
    "from sklearn import preprocessing\n",
    "import matplotlib.pyplot as plt\n",
    "import category_encoders as ce\n",
    "from sklearn.tree import DecisionTreeClassifier\n",
    "from sklearn.ensemble import RandomForestClassifier\n",
    "from sklearn.linear_model import LogisticRegression\n",
    "from sklearn.model_selection import cross_val_score\n",
    "from sklearn.model_selection import GridSearchCV, train_test_split\n",
    "from mlxtend.evaluate import confusion_matrix\n",
    "from mlxtend.plotting import plot_confusion_matrix\n",
    "import xgboost as xgb\n",
    "from xgboost import XGBClassifier\n",
    "from sklearn.naive_bayes import GaussianNB\n",
    "data=pd.read_csv(\"phase2_output.csv\")"
   ]
  },
  {
   "cell_type": "code",
   "execution_count": 2,
   "id": "64e62ab5",
   "metadata": {},
   "outputs": [
    {
     "data": {
      "text/plain": [
       "(59400, 21)"
      ]
     },
     "execution_count": 2,
     "metadata": {},
     "output_type": "execute_result"
    }
   ],
   "source": [
    "data.shape"
   ]
  },
  {
   "cell_type": "code",
   "execution_count": 3,
   "id": "e0f0a3dc",
   "metadata": {},
   "outputs": [
    {
     "name": "stdout",
     "output_type": "stream",
     "text": [
      "0    32259\n",
      "2    22824\n",
      "1     4317\n",
      "Name: status_group, dtype: int64\n"
     ]
    }
   ],
   "source": [
    "print(data['status_group'].value_counts())"
   ]
  },
  {
   "cell_type": "markdown",
   "id": "f3f2ae96",
   "metadata": {},
   "source": [
    "converted the target variable also into numerical"
   ]
  },
  {
   "cell_type": "code",
   "execution_count": 4,
   "id": "eb33e86e",
   "metadata": {},
   "outputs": [
    {
     "name": "stdout",
     "output_type": "stream",
     "text": [
      "<class 'pandas.core.frame.DataFrame'>\n",
      "RangeIndex: 59400 entries, 0 to 59399\n",
      "Data columns (total 21 columns):\n",
      " #   Column                 Non-Null Count  Dtype  \n",
      "---  ------                 --------------  -----  \n",
      " 0   Unnamed: 0             59400 non-null  int64  \n",
      " 1   status_group           59400 non-null  int64  \n",
      " 2   funder                 59400 non-null  float64\n",
      " 3   gps_height             59400 non-null  int64  \n",
      " 4   longitude              59400 non-null  float64\n",
      " 5   latitude               59400 non-null  float64\n",
      " 6   basin                  59400 non-null  float64\n",
      " 7   district_code          59400 non-null  int64  \n",
      " 8   population             59400 non-null  int64  \n",
      " 9   public_meeting         59400 non-null  float64\n",
      " 10  scheme_name            59400 non-null  float64\n",
      " 11  permit                 59400 non-null  float64\n",
      " 12  construction_year      59400 non-null  int64  \n",
      " 13  extraction_type_class  59400 non-null  float64\n",
      " 14  management             59400 non-null  float64\n",
      " 15  payment                59400 non-null  float64\n",
      " 16  water_quality          59400 non-null  float64\n",
      " 17  quantity               59400 non-null  float64\n",
      " 18  source                 59400 non-null  float64\n",
      " 19  source_class           59400 non-null  float64\n",
      " 20  waterpoint_type        59400 non-null  float64\n",
      "dtypes: float64(15), int64(6)\n",
      "memory usage: 9.5 MB\n"
     ]
    }
   ],
   "source": [
    "data.info()"
   ]
  },
  {
   "cell_type": "markdown",
   "id": "122ce300",
   "metadata": {},
   "source": [
    "From the above dataset information, all the features are converted into numerical for modelling"
   ]
  },
  {
   "cell_type": "code",
   "execution_count": 5,
   "id": "5b7913ac",
   "metadata": {},
   "outputs": [
    {
     "data": {
      "text/plain": [
       "Unnamed: 0               0\n",
       "status_group             0\n",
       "funder                   0\n",
       "gps_height               0\n",
       "longitude                0\n",
       "latitude                 0\n",
       "basin                    0\n",
       "district_code            0\n",
       "population               0\n",
       "public_meeting           0\n",
       "scheme_name              0\n",
       "permit                   0\n",
       "construction_year        0\n",
       "extraction_type_class    0\n",
       "management               0\n",
       "payment                  0\n",
       "water_quality            0\n",
       "quantity                 0\n",
       "source                   0\n",
       "source_class             0\n",
       "waterpoint_type          0\n",
       "dtype: int64"
      ]
     },
     "execution_count": 5,
     "metadata": {},
     "output_type": "execute_result"
    }
   ],
   "source": [
    "data.isnull().sum()"
   ]
  },
  {
   "cell_type": "markdown",
   "id": "5540d70b",
   "metadata": {},
   "source": [
    "From the above informaiton,there is no missing data and all the missing data is replaced"
   ]
  },
  {
   "cell_type": "code",
   "execution_count": 6,
   "id": "fbbb5bba",
   "metadata": {},
   "outputs": [],
   "source": [
    "data=data.drop(columns=['Unnamed: 0']) "
   ]
  },
  {
   "cell_type": "markdown",
   "id": "044b4373",
   "metadata": {},
   "source": [
    "it is a serial number column after exporting data into CSV file"
   ]
  },
  {
   "cell_type": "code",
   "execution_count": 7,
   "id": "83066877",
   "metadata": {},
   "outputs": [],
   "source": [
    "X=data.drop(columns=['status_group'])\n",
    "y=data['status_group']\n",
    "X_train, X_test, y_train, y_test = train_test_split(X, y, test_size=0.2, random_state=42)"
   ]
  },
  {
   "cell_type": "markdown",
   "id": "b97e6faf",
   "metadata": {},
   "source": [
    "# Splitting the data randomly Train data: 80% and test data: 20%"
   ]
  },
  {
   "cell_type": "code",
   "execution_count": 8,
   "id": "ca565e69",
   "metadata": {},
   "outputs": [],
   "source": [
    "# creating summary datafframe to store all the metrics and information\n",
    "summary= pd.DataFrame(columns=[\"Model\",'Train data_F1 score','Test data_F1score','Crossvalid_mean','Crossvalid_std','Grid_bestscore'])"
   ]
  },
  {
   "cell_type": "code",
   "execution_count": 9,
   "id": "85d61ac9",
   "metadata": {},
   "outputs": [
    {
     "name": "stdout",
     "output_type": "stream",
     "text": [
      "F1 Score:\n",
      "TRAIN dataset : 0.75\n",
      "TEST dataset  : 0.68\n"
     ]
    },
    {
     "data": {
      "image/png": "[encoded data removed]",
      "text/plain": [
       "<Figure size 432x288 with 1 Axes>"
      ]
     },
     "metadata": {
      "needs_background": "light"
     },
     "output_type": "display_data"
    }
   ],
   "source": [
    "KN = KNeighborsClassifier(7) # no.of neighbours chosen are 7\n",
    "#fitting the train data input variables and target variables\n",
    "KN.fit(X_train, y_train)\n",
    "# predicting the target varible from input variable of train data\n",
    "y_pred = KN.predict(X_train)\n",
    "y_pred_test = KN.predict(X_test)\n",
    "print(\"F1 Score:\")\n",
    "F1_train=round(f1_score(y_train, y_pred,average='micro'),2)\n",
    "F1_test=round(f1_score(y_test, y_pred_test,average='micro'),2)\n",
    "print(\"TRAIN dataset :\",F1_train)\n",
    "print(\"TEST dataset  :\",F1_test)\n",
    "# creating confusion matrix\n",
    "cm = confusion_matrix(y_test, y_pred_test)\n",
    "plot_confusion_matrix(cm)\n",
    "plt.show()\n"
   ]
  },
  {
   "cell_type": "markdown",
   "id": "7e61be85",
   "metadata": {},
   "source": [
    "Choosing the K nearest Neighbours as a base line model. Choosing the F1 score as a evaluation metric for checking model performance."
   ]
  },
  {
   "cell_type": "code",
   "execution_count": 10,
   "id": "b6e9513a",
   "metadata": {},
   "outputs": [
    {
     "data": {
      "text/plain": [
       "{'algorithm': 'auto', 'leaf_size': 15, 'n_neighbors': 7, 'weights': 'distance'}"
      ]
     },
     "execution_count": 10,
     "metadata": {},
     "output_type": "execute_result"
    }
   ],
   "source": [
    "#Finding the best hyperparameters for improving the performance of the model using gridsearch\n",
    "grid_p = {\"n_neighbors\":[3,4,5,7],\"weights\":[\"uniform\",\"distance\"],\n",
    "          \"algorithm\":[\"auto\",\"ball_tree\",\"kd_tree\",\"brute\"],\"leaf_size\":[15,25,30]}\n",
    "\n",
    "grid_search = GridSearchCV(KN, grid_p, n_jobs=-1, cv=5, scoring='f1_micro')\n",
    "grid_search.fit(X_train, y_train)\n",
    "best=grid_search.best_score_\n",
    "grid_search.best_params_"
   ]
  },
  {
   "cell_type": "markdown",
   "id": "124aa772",
   "metadata": {},
   "source": [
    "Best hyperparameters for K-nearest neighbours using gridsearch are:{'algorithm': 'auto', 'leaf_size': 15, 'n_neighbors': 7, 'weights': 'distance'}"
   ]
  },
  {
   "cell_type": "code",
   "execution_count": 11,
   "id": "8fa9d464",
   "metadata": {},
   "outputs": [
    {
     "name": "stdout",
     "output_type": "stream",
     "text": [
      "0.673080808080808 +/- 0.003686215215061574\n"
     ]
    }
   ],
   "source": [
    "metric = cross_val_score(KN, X, y, cv=5, scoring='f1_micro')\n",
    "print(metric.mean(), \"+/-\", metric.std()) \n",
    "summary.loc[len(summary.index)] = ['K Nearest Neighbours',F1_train,F1_test, round(metric.mean(),2),\n",
    "                                   round(metric.std(),3),round(best,2)] "
   ]
  },
  {
   "cell_type": "markdown",
   "id": "590f5d87",
   "metadata": {},
   "source": [
    "From the cross validation score, mean is nearly equal to actual f1_score.standard deviation is very less, which shows the robustness of KNN model after splitting the data randomly multiple times also."
   ]
  },
  {
   "cell_type": "code",
   "execution_count": 12,
   "id": "9383e42b",
   "metadata": {},
   "outputs": [
    {
     "name": "stdout",
     "output_type": "stream",
     "text": [
      "F1 Score:\n",
      "TRAIN dataset : 0.7\n",
      "TEST dataset  : 0.7\n"
     ]
    },
    {
     "data": {
      "image/png": "[encoded data removed]",
      "text/plain": [
       "<Figure size 432x288 with 1 Axes>"
      ]
     },
     "metadata": {
      "needs_background": "light"
     },
     "output_type": "display_data"
    }
   ],
   "source": [
    " #fitting the train data input variables and target variables\n",
    "GNB = GaussianNB().fit(X_train, y_train)\n",
    "# predicting the target varible from input variable of train data\n",
    "y_pred = GNB.predict(X_train) \n",
    "# predicting the target varible from input variable of test data\n",
    "y_pred_test = GNB.predict(X_test)\n",
    "print(\"F1 Score:\")\n",
    "F1_train=round(f1_score(y_train, y_pred,average='micro'),2) #evaluation metric\n",
    "F1_test=round(f1_score(y_test, y_pred_test,average='micro'),2)\n",
    "print(\"TRAIN dataset :\",F1_train)\n",
    "print(\"TEST dataset  :\",F1_test)\n",
    "# creating confusion matrix\n",
    "cm = confusion_matrix(y_test, y_pred_test) \n",
    "plot_confusion_matrix(cm)\n",
    "plt.show()\n"
   ]
  },
  {
   "cell_type": "code",
   "execution_count": 13,
   "id": "ba65e0cc",
   "metadata": {},
   "outputs": [
    {
     "data": {
      "text/plain": [
       "{'var_smoothing': 1e-09}"
      ]
     },
     "execution_count": 13,
     "metadata": {},
     "output_type": "execute_result"
    }
   ],
   "source": [
    "#Finding the best hyperparameters for improving the performance of the model using gridsearch\n",
    "grid_p = {\"var_smoothing\":[1e-07,1e-09]}\n",
    "\n",
    "grid_search = GridSearchCV(GNB, grid_p, n_jobs=-1, cv=5, scoring='f1_micro')\n",
    "grid_search.fit(X_train, y_train)\n",
    "best=grid_search.best_score_\n",
    "grid_search.best_params_\n"
   ]
  },
  {
   "cell_type": "markdown",
   "id": "1635e7f3",
   "metadata": {},
   "source": [
    "Best hyperparameters for Naive bayes using gridsearch are:{'var_smoothing': 1e-09}"
   ]
  },
  {
   "cell_type": "code",
   "execution_count": 14,
   "id": "b7279fca",
   "metadata": {},
   "outputs": [
    {
     "name": "stdout",
     "output_type": "stream",
     "text": [
      "0.6979797979797979 +/- 0.003654788711977432\n"
     ]
    }
   ],
   "source": [
    "metric = cross_val_score(GNB, X, y, cv=5, scoring='f1_micro')\n",
    "print(metric.mean(), \"+/-\", metric.std()) \n",
    "summary.loc[len(summary.index)] = ['Naive Bayes',F1_train,F1_test, round(metric.mean(),2),\n",
    "                                   round(metric.std(),3),round(best,2)] "
   ]
  },
  {
   "cell_type": "markdown",
   "id": "3f4c3802",
   "metadata": {},
   "source": [
    "From the cross validation score, mean is nearly equal to actual f1_score.standard deviation is very less, which shows the robustness of Naive bayes model after splitting the data randomly multiple times also."
   ]
  },
  {
   "cell_type": "code",
   "execution_count": 15,
   "id": "d5637ee5",
   "metadata": {},
   "outputs": [
    {
     "name": "stdout",
     "output_type": "stream",
     "text": [
      "F1 Score:\n",
      "TRAIN dataset : 0.81\n",
      "TEST dataset  : 0.77\n"
     ]
    },
    {
     "data": {
      "image/png": "[encoded data removed]",
      "text/plain": [
       "<Figure size 432x288 with 1 Axes>"
      ]
     },
     "metadata": {
      "needs_background": "light"
     },
     "output_type": "display_data"
    }
   ],
   "source": [
    "#choosing the hyperparameters based on dataset\n",
    "XGB = XGBClassifier(objective = 'multi:softmax', booster = 'gbtree',num_class = 3,\n",
    "                    eta = .1,max_depth = 7, colsample_bytree = .4, \n",
    "                    learning_rate = 0.1,max_delta_step=1)\n",
    "#fitting the train data input variables and target variables\n",
    "XGB.fit(X_train, y_train)\n",
    "# predicting the target varible from input variable of train data\n",
    "y_pred = XGB.predict(X_train)\n",
    "# predicting the target varible from input variable of test data\n",
    "y_pred_test = XGB.predict(X_test)\n",
    "print(\"F1 Score:\")\n",
    "F1_train=round(f1_score(y_train, y_pred,average='micro'),2)\n",
    "F1_test=round(f1_score(y_test, y_pred_test,average='micro'),2)\n",
    "print(\"TRAIN dataset :\",F1_train)\n",
    "print(\"TEST dataset  :\",F1_test)\n",
    "# creating confusion matrix\n",
    "cm = confusion_matrix(y_test, y_pred_test)\n",
    "plot_confusion_matrix(cm)\n",
    "plt.show()\n"
   ]
  },
  {
   "cell_type": "code",
   "execution_count": 16,
   "id": "71770d7a",
   "metadata": {},
   "outputs": [
    {
     "data": {
      "text/plain": [
       "{'learning_rate': 0.1, 'max_depth': 10}"
      ]
     },
     "execution_count": 16,
     "metadata": {},
     "output_type": "execute_result"
    }
   ],
   "source": [
    "#Finding the best hyperparameters for improving the performance of the model using gridsearch\n",
    "grid_p = {\"learning_rate\":[0.1,1,10],\"max_depth\":[3,5,7,10]}\n",
    "grid_search = GridSearchCV(XGB, grid_p, n_jobs=-1, cv=5, scoring='f1_micro')\n",
    "grid_search.fit(X_train, y_train)\n",
    "best=grid_search.best_score_\n",
    "grid_search.best_params_"
   ]
  },
  {
   "cell_type": "markdown",
   "id": "5d638d45",
   "metadata": {},
   "source": [
    "Best hyperparameters for XGBoost using gridsearch are:{'learning_rate': 0.1, 'loss': 'log_loss', 'max_depth': 10}"
   ]
  },
  {
   "cell_type": "code",
   "execution_count": 17,
   "id": "00a9ef92",
   "metadata": {},
   "outputs": [
    {
     "name": "stdout",
     "output_type": "stream",
     "text": [
      "0.7725252525252525 +/- 0.002390690944089324\n"
     ]
    }
   ],
   "source": [
    "metric = cross_val_score(XGB, X, y, cv=5, scoring='f1_micro')\n",
    "print(metric.mean(), \"+/-\", metric.std()) \n",
    "summary.loc[len(summary.index)] = ['XGboost',F1_train,F1_test, round(metric.mean(),2),\n",
    "                                   round(metric.std(),3),round(best,2)] "
   ]
  },
  {
   "cell_type": "markdown",
   "id": "f4f97748",
   "metadata": {},
   "source": [
    "From the cross validation score, mean is nearly equal to actual f1_score.standard deviation is very less, which shows the robustness of XGboost model after splitting the data randomly multiple times also."
   ]
  },
  {
   "cell_type": "code",
   "execution_count": 18,
   "id": "b8bff131",
   "metadata": {},
   "outputs": [
    {
     "name": "stdout",
     "output_type": "stream",
     "text": [
      "F1 Score:\n",
      "TRAIN dataset : 0.87\n",
      "TEST dataset  : 0.74\n"
     ]
    },
    {
     "data": {
      "image/png": "[encoded data removed]",
      "text/plain": [
       "<Figure size 432x288 with 1 Axes>"
      ]
     },
     "metadata": {
      "needs_background": "light"
     },
     "output_type": "display_data"
    }
   ],
   "source": [
    "#choosing the hyperparameters based on dataset\n",
    "RF = RandomForestClassifier(n_estimators=50, random_state=42,\n",
    "                            n_jobs=-1,class_weight='balanced',max_depth=15,max_features=15)\n",
    "#fitting the train data input variables and target variables\n",
    "RF.fit(X_train, y_train)\n",
    "# predicting the target varible from input variable of train data\n",
    "y_pred = RF.predict(X_train)\n",
    "# predicting the target varible from input variable of test data\n",
    "y_pred_test = RF.predict(X_test)\n",
    "print(\"F1 Score:\")\n",
    "F1_train=round(f1_score(y_train, y_pred,average='micro'),2)\n",
    "F1_test=round(f1_score(y_test, y_pred_test,average='micro'),2)\n",
    "print(\"TRAIN dataset :\",F1_train)\n",
    "print(\"TEST dataset  :\",F1_test)\n",
    "# creating confusion matrix\n",
    "cm = confusion_matrix(y_test, y_pred_test)\n",
    "plot_confusion_matrix(cm)\n",
    "plt.show()\n"
   ]
  },
  {
   "cell_type": "code",
   "execution_count": 19,
   "id": "50a96847",
   "metadata": {},
   "outputs": [
    {
     "data": {
      "text/plain": [
       "{'criterion': 'gini',\n",
       " 'max_features': 'sqrt',\n",
       " 'min_samples_split': 2,\n",
       " 'n_estimators': 100}"
      ]
     },
     "execution_count": 19,
     "metadata": {},
     "output_type": "execute_result"
    }
   ],
   "source": [
    "#Finding the best hyperparameters for improving the performance of the model using gridsearch\n",
    "grid_p = {\"n_estimators\": [20, 50, 100],\"criterion\": [\"gini\", \"entropy\"],\n",
    "          \"max_features\": ['sqrt', 'log2'],\"min_samples_split\": [2, 5, 10]}\n",
    "\n",
    "grid_search = GridSearchCV(RF, grid_p, n_jobs=-1, cv=5, scoring='f1_micro')\n",
    "grid_search.fit(X_train, y_train)\n",
    "best=grid_search.best_score_\n",
    "grid_search.best_params_\n"
   ]
  },
  {
   "cell_type": "markdown",
   "id": "ea76c786",
   "metadata": {},
   "source": [
    "Best hyperparameters for Randomforest using gridsearch are:{'criterion': 'gini',\n",
    " 'max_features': 'sqrt','min_samples_split': 2,'n_estimators': 100}"
   ]
  },
  {
   "cell_type": "code",
   "execution_count": 20,
   "id": "ba2b028c",
   "metadata": {},
   "outputs": [
    {
     "name": "stdout",
     "output_type": "stream",
     "text": [
      "0.7390740740740741 +/- 0.0047343228290330245\n"
     ]
    }
   ],
   "source": [
    "metric = cross_val_score(RF, X, y, cv=5, scoring='f1_micro')\n",
    "print(metric.mean(), \"+/-\", metric.std()) \n",
    "summary.loc[len(summary.index)] = ['Randomforest',F1_train,F1_test,round(metric.mean(),2), \n",
    "                                   round(metric.std(),3),round(best,2)] "
   ]
  },
  {
   "cell_type": "markdown",
   "id": "138c57a9",
   "metadata": {},
   "source": [
    "From the cross validation score, mean is nearly equal to actual f1_score.standard deviation is very less, which shows the robustness of Random Forest model after splitting the data randomly multiple times also."
   ]
  },
  {
   "cell_type": "code",
   "execution_count": 21,
   "id": "d262791a",
   "metadata": {},
   "outputs": [
    {
     "name": "stdout",
     "output_type": "stream",
     "text": [
      "F1 Score:\n",
      "TRAIN dataset : 0.7\n",
      "TEST dataset  : 0.7\n"
     ]
    },
    {
     "data": {
      "image/png": "[encoded data removed]",
      "text/plain": [
       "<Figure size 432x288 with 1 Axes>"
      ]
     },
     "metadata": {
      "needs_background": "light"
     },
     "output_type": "display_data"
    }
   ],
   "source": [
    "#choosing the hyperparameters based on dataset\n",
    "DT = DecisionTreeClassifier(criterion = \"gini\",\n",
    "            random_state = 100,max_depth=3, min_samples_leaf=5)\n",
    "#fitting the train data input variables and target variables\n",
    "DT.fit(X_train, y_train)\n",
    "# predicting the target varible from input variable of train data\n",
    "y_pred = DT.predict(X_train)\n",
    "# predicting the target varible from input variable of test data\n",
    "y_pred_test = DT.predict(X_test)\n",
    "print(\"F1 Score:\")\n",
    "F1_train=round(f1_score(y_train, y_pred,average='micro'),2)\n",
    "F1_test=round(f1_score(y_test, y_pred_test,average='micro'),2)\n",
    "print(\"TRAIN dataset :\",F1_train)\n",
    "print(\"TEST dataset  :\",F1_test)\n",
    "# creating confusion matrix\n",
    "cm = confusion_matrix(y_test, y_pred_test)\n",
    "plot_confusion_matrix(cm)\n",
    "plt.show()\n",
    "  "
   ]
  },
  {
   "cell_type": "code",
   "execution_count": 22,
   "id": "1968b9d7",
   "metadata": {},
   "outputs": [
    {
     "data": {
      "text/plain": [
       "{'criterion': 'gini',\n",
       " 'max_depth': 9,\n",
       " 'min_samples_leaf': 1,\n",
       " 'random_state': 200}"
      ]
     },
     "execution_count": 22,
     "metadata": {},
     "output_type": "execute_result"
    }
   ],
   "source": [
    "#Finding the best hyperparameters for improving the performance of the model using gridsearch\n",
    "grid_p = {\"criterion\":['gini','entropy','log_loss'],\"random_state\":[50,100,200],\n",
    "                       \"max_depth\":range(1,10),\"min_samples_leaf\":range(1,5)}\n",
    "\n",
    "grid_search = GridSearchCV(DT, grid_p, n_jobs=-1, cv=5, scoring='f1_micro')\n",
    "grid_search.fit(X_train, y_train)\n",
    "best=grid_search.best_score_\n",
    "grid_search.best_params_"
   ]
  },
  {
   "cell_type": "markdown",
   "id": "5b3af45b",
   "metadata": {},
   "source": [
    "Best hyperparameters for Decision Tree using gridsearch are:{'criterion': 'gini',\n",
    " 'max_depth': 9,'min_samples_leaf': 1,'random_state': 200}"
   ]
  },
  {
   "cell_type": "code",
   "execution_count": 23,
   "id": "c1d07aa5",
   "metadata": {},
   "outputs": [
    {
     "name": "stdout",
     "output_type": "stream",
     "text": [
      "0.6959259259259258 +/- 0.0035263634291668646\n"
     ]
    }
   ],
   "source": [
    "metric = cross_val_score(DT, X, y, cv=5, scoring='f1_micro')\n",
    "print(metric.mean(), \"+/-\", metric.std()) \n",
    "summary.loc[len(summary.index)] = ['Decision Tree',F1_train,F1_test,round(metric.mean(),2), \n",
    "                                   round(metric.std(),3),round(best,2)] "
   ]
  },
  {
   "cell_type": "markdown",
   "id": "2c721fce",
   "metadata": {},
   "source": [
    "From the cross validation score, mean is nearly equal to actual f1_score.standard deviation is very less, which shows the robustness of Decision Tree model after splitting the data randomly multiple times also."
   ]
  },
  {
   "cell_type": "code",
   "execution_count": 24,
   "id": "376e1681",
   "metadata": {
    "scrolled": true
   },
   "outputs": [
    {
     "data": {
      "text/html": [
       "<div>\n",
       "<style scoped>\n",
       "    .dataframe tbody tr th:only-of-type {\n",
       "        vertical-align: middle;\n",
       "    }\n",
       "\n",
       "    .dataframe tbody tr th {\n",
       "        vertical-align: top;\n",
       "    }\n",
       "\n",
       "    .dataframe thead th {\n",
       "        text-align: right;\n",
       "    }\n",
       "</style>\n",
       "<table border=\"1\" class=\"dataframe\">\n",
       "  <thead>\n",
       "    <tr style=\"text-align: right;\">\n",
       "      <th></th>\n",
       "      <th>Model</th>\n",
       "      <th>Train data_F1 score</th>\n",
       "      <th>Test data_F1score</th>\n",
       "      <th>Crossvalid_mean</th>\n",
       "      <th>Crossvalid_std</th>\n",
       "      <th>Grid_bestscore</th>\n",
       "    </tr>\n",
       "  </thead>\n",
       "  <tbody>\n",
       "    <tr>\n",
       "      <th>0</th>\n",
       "      <td>K Nearest Neighbours</td>\n",
       "      <td>0.75</td>\n",
       "      <td>0.68</td>\n",
       "      <td>0.67</td>\n",
       "      <td>0.004</td>\n",
       "      <td>0.67</td>\n",
       "    </tr>\n",
       "    <tr>\n",
       "      <th>1</th>\n",
       "      <td>Naive Bayes</td>\n",
       "      <td>0.70</td>\n",
       "      <td>0.70</td>\n",
       "      <td>0.70</td>\n",
       "      <td>0.004</td>\n",
       "      <td>0.70</td>\n",
       "    </tr>\n",
       "    <tr>\n",
       "      <th>2</th>\n",
       "      <td>XGboost</td>\n",
       "      <td>0.81</td>\n",
       "      <td>0.77</td>\n",
       "      <td>0.77</td>\n",
       "      <td>0.002</td>\n",
       "      <td>0.78</td>\n",
       "    </tr>\n",
       "    <tr>\n",
       "      <th>3</th>\n",
       "      <td>Randomforest</td>\n",
       "      <td>0.87</td>\n",
       "      <td>0.74</td>\n",
       "      <td>0.74</td>\n",
       "      <td>0.005</td>\n",
       "      <td>0.75</td>\n",
       "    </tr>\n",
       "    <tr>\n",
       "      <th>4</th>\n",
       "      <td>Decision Tree</td>\n",
       "      <td>0.70</td>\n",
       "      <td>0.70</td>\n",
       "      <td>0.70</td>\n",
       "      <td>0.004</td>\n",
       "      <td>0.74</td>\n",
       "    </tr>\n",
       "  </tbody>\n",
       "</table>\n",
       "</div>"
      ],
      "text/plain": [
       "                  Model  Train data_F1 score  Test data_F1score  \\\n",
       "0  K Nearest Neighbours                 0.75               0.68   \n",
       "1           Naive Bayes                 0.70               0.70   \n",
       "2               XGboost                 0.81               0.77   \n",
       "3          Randomforest                 0.87               0.74   \n",
       "4         Decision Tree                 0.70               0.70   \n",
       "\n",
       "   Crossvalid_mean  Crossvalid_std  Grid_bestscore  \n",
       "0             0.67           0.004            0.67  \n",
       "1             0.70           0.004            0.70  \n",
       "2             0.77           0.002            0.78  \n",
       "3             0.74           0.005            0.75  \n",
       "4             0.70           0.004            0.74  "
      ]
     },
     "execution_count": 24,
     "metadata": {},
     "output_type": "execute_result"
    }
   ],
   "source": [
    "summary\n"
   ]
  },
  {
   "cell_type": "markdown",
   "id": "9ffe6094",
   "metadata": {},
   "source": [
    "# Summary\n",
    "1.Base line model and Decision Tree has same performance metric with initial selected hyperparameters\n",
    "2.Using Gridsearch provided parameters Decision Tree F1_score increase to 4%\n",
    "3.Randomforest model has highest train data F1_score\n",
    "4.XGBoost model has highest test data F1_score\n",
    "5.XGBoost model has highest cross validation mean,less std deviation and it is evident that XGboost is more robust \n",
    "6.Using K-fold cross validation, all the models F1_score didn't change much with multiple random splitting of data\n",
    "7.\n"
   ]
  },
  {
   "cell_type": "code",
   "execution_count": null,
   "id": "1150ab9b",
   "metadata": {},
   "outputs": [],
   "source": []
  }
 ],
 "metadata": {
  "kernelspec": {
   "display_name": "Python 3",
   "language": "python",
   "name": "python3"
  },
  "language_info": {
   "codemirror_mode": {
    "name": "ipython",
    "version": 3
   },
   "file_extension": ".py",
   "mimetype": "text/x-python",
   "name": "python",
   "nbconvert_exporter": "python",
   "pygments_lexer": "ipython3",
   "version": "3.8.8"
  }
 },
 "nbformat": 4,
 "nbformat_minor": 5
}
