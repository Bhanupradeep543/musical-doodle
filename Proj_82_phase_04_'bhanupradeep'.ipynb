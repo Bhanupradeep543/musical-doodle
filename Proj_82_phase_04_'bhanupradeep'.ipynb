{
 "cells": [
  {
   "cell_type": "code",
   "execution_count": 1,
   "id": "87afdc56",
   "metadata": {},
   "outputs": [],
   "source": [
    "import numpy as np\n",
    "import pandas as pd\n",
    "import seaborn as sb\n",
    "from sklearn.neighbors import KNeighborsClassifier\n",
    "from sklearn.metrics import f1_score\n",
    "from sklearn.model_selection import GridSearchCV, train_test_split\n",
    "from sklearn import preprocessing\n",
    "import matplotlib.pyplot as plt\n",
    "import category_encoders as ce\n",
    "from sklearn.tree import DecisionTreeClassifier\n",
    "from sklearn.ensemble import RandomForestClassifier\n",
    "import xgboost as xgb\n",
    "from xgboost import XGBClassifier\n",
    "from sklearn.naive_bayes import GaussianNB\n",
    "from sklearn.ensemble import VotingClassifier\n",
    "from sklearn.preprocessing import StandardScaler\n",
    "from sklearn.ensemble import GradientBoostingClassifier\n",
    "import lightgbm as lgb\n",
    "from lightgbm import LGBMClassifier\n",
    "from sklearn.ensemble import RandomForestRegressor\n",
    "from sklearn.decomposition import PCA\n",
    "data=pd.read_csv(\"phase2_output.csv\")"
   ]
  },
  {
   "cell_type": "code",
   "execution_count": 2,
   "id": "64e62ab5",
   "metadata": {},
   "outputs": [
    {
     "data": {
      "text/plain": [
       "(59400, 21)"
      ]
     },
     "execution_count": 2,
     "metadata": {},
     "output_type": "execute_result"
    }
   ],
   "source": [
    "data.shape"
   ]
  },
  {
   "cell_type": "code",
   "execution_count": 3,
   "id": "e0f0a3dc",
   "metadata": {},
   "outputs": [
    {
     "name": "stdout",
     "output_type": "stream",
     "text": [
      "0    32259\n",
      "2    22824\n",
      "1     4317\n",
      "Name: status_group, dtype: int64\n"
     ]
    }
   ],
   "source": [
    "print(data['status_group'].value_counts())"
   ]
  },
  {
   "cell_type": "markdown",
   "id": "f3f2ae96",
   "metadata": {},
   "source": [
    "converted the target variable also into numerical"
   ]
  },
  {
   "cell_type": "markdown",
   "id": "122ce300",
   "metadata": {},
   "source": [
    "From the above dataset information, all the features are converted into numerical for modelling"
   ]
  },
  {
   "cell_type": "code",
   "execution_count": 4,
   "id": "fbbb5bba",
   "metadata": {},
   "outputs": [],
   "source": [
    "data=data.drop(columns=['Unnamed: 0']) "
   ]
  },
  {
   "cell_type": "markdown",
   "id": "044b4373",
   "metadata": {},
   "source": [
    "it is a serial number column after exporting data into CSV file"
   ]
  },
  {
   "cell_type": "code",
   "execution_count": 5,
   "id": "83066877",
   "metadata": {},
   "outputs": [],
   "source": [
    "X=data.drop(columns=['status_group'])\n",
    "y=data['status_group']\n",
    "X_train, X_test, y_train, y_test = train_test_split(X, y, test_size=0.2, random_state=42)"
   ]
  },
  {
   "cell_type": "markdown",
   "id": "b97e6faf",
   "metadata": {},
   "source": [
    "# Splitting the data randomly Train data: 80% and test data: 20%"
   ]
  },
  {
   "cell_type": "code",
   "execution_count": 6,
   "id": "ca565e69",
   "metadata": {},
   "outputs": [],
   "source": [
    "# creating summary datafframe to store all the metrics and information\n",
    "summary= pd.DataFrame(columns=[\"Model\",'Train data_F1 score','Test data_F1score'])"
   ]
  },
  {
   "cell_type": "code",
   "execution_count": 7,
   "id": "85d61ac9",
   "metadata": {},
   "outputs": [
    {
     "name": "stdout",
     "output_type": "stream",
     "text": [
      "F1 Score:\n",
      "TRAIN dataset : 0.75\n",
      "TEST dataset  : 0.68\n"
     ]
    }
   ],
   "source": [
    "KN = KNeighborsClassifier(7) # no.of neighbours chosen are 7\n",
    "#fitting the train data input variables and target variables\n",
    "KN.fit(X_train, y_train)\n",
    "# predicting the target varible from input variable of train data\n",
    "y_pred = KN.predict(X_train)\n",
    "y_pred_test = KN.predict(X_test)\n",
    "print(\"F1 Score:\")\n",
    "F1_train=round(f1_score(y_train, y_pred,average='micro'),2)\n",
    "F1_test=round(f1_score(y_test, y_pred_test,average='micro'),2)\n",
    "print(\"TRAIN dataset :\",F1_train)\n",
    "print(\"TEST dataset  :\",F1_test)\n",
    "summary.loc[len(summary.index)] = ['K Nearest Neighbours',F1_train,F1_test] "
   ]
  },
  {
   "cell_type": "markdown",
   "id": "7e61be85",
   "metadata": {},
   "source": [
    "Choosing the K nearest Neighbours as a base line model. Choosing the F1 score as a evaluation metric for checking model performance."
   ]
  },
  {
   "cell_type": "code",
   "execution_count": 8,
   "id": "b8bff131",
   "metadata": {},
   "outputs": [
    {
     "name": "stdout",
     "output_type": "stream",
     "text": [
      "F1 Score:\n",
      "TRAIN dataset : 0.87\n",
      "TEST dataset  : 0.74\n"
     ]
    }
   ],
   "source": [
    "#choosing the hyperparameters based on dataset\n",
    "RF = RandomForestClassifier(n_estimators=50, random_state=42,\n",
    "                            n_jobs=-1,class_weight='balanced',max_depth=15,max_features=15)\n",
    "#fitting the train data input variables and target variables\n",
    "RF.fit(X_train, y_train)\n",
    "# predicting the target varible from input variable of train data\n",
    "y_pred = RF.predict(X_train)\n",
    "# predicting the target varible from input variable of test data\n",
    "y_pred_test = RF.predict(X_test)\n",
    "print(\"F1 Score:\")\n",
    "F1_train=round(f1_score(y_train, y_pred,average='micro'),2)\n",
    "F1_test=round(f1_score(y_test, y_pred_test,average='micro'),2)\n",
    "print(\"TRAIN dataset :\",F1_train)\n",
    "print(\"TEST dataset  :\",F1_test)\n",
    "summary.loc[len(summary.index)] = ['Randomforest',F1_train,F1_test] "
   ]
  },
  {
   "cell_type": "code",
   "execution_count": 9,
   "id": "d262791a",
   "metadata": {},
   "outputs": [
    {
     "name": "stdout",
     "output_type": "stream",
     "text": [
      "F1 Score:\n",
      "TRAIN dataset : 0.76\n",
      "TEST dataset  : 0.74\n"
     ]
    }
   ],
   "source": [
    "#choosing the hyperparameters based on dataset\n",
    "DT = DecisionTreeClassifier(criterion = \"gini\",\n",
    "            random_state = 200,max_depth=9, min_samples_leaf=1)\n",
    "#fitting the train data input variables and target variables\n",
    "DT.fit(X_train, y_train)\n",
    "# predicting the target varible from input variable of train data\n",
    "y_pred = DT.predict(X_train)\n",
    "# predicting the target varible from input variable of test data\n",
    "y_pred_test = DT.predict(X_test)\n",
    "print(\"F1 Score:\")\n",
    "F1_train=round(f1_score(y_train, y_pred,average='micro'),2)\n",
    "F1_test=round(f1_score(y_test, y_pred_test,average='micro'),2)\n",
    "print(\"TRAIN dataset :\",F1_train)\n",
    "print(\"TEST dataset  :\",F1_test)\n",
    "summary.loc[len(summary.index)] = ['Decision Tree',F1_train,F1_test] "
   ]
  },
  {
   "cell_type": "markdown",
   "id": "00ca055b",
   "metadata": {},
   "source": [
    "# Ensembling of Models\n",
    "It is combining various models for better performance. Ensembling methods used are:\n",
    "1.Max. Voting\n",
    "2.Xtreme Gradient Boosting\n",
    "3.Gradient Boosting\n",
    "4.Light GBM"
   ]
  },
  {
   "cell_type": "code",
   "execution_count": 10,
   "id": "fd383615",
   "metadata": {},
   "outputs": [
    {
     "name": "stdout",
     "output_type": "stream",
     "text": [
      "F1 Score:\n",
      "TRAIN dataset : 0.82\n",
      "TEST dataset  : 0.77\n"
     ]
    }
   ],
   "source": [
    "# Max voting ensembling Decision Tree,KNN,Random forest models are choosed.\n",
    "M2 = DecisionTreeClassifier(criterion = \"gini\",\n",
    "            random_state = 200,max_depth=9, min_samples_leaf=1)\n",
    "M3= KNeighborsClassifier(7)\n",
    "M4= RandomForestClassifier(n_estimators=50, random_state=42,\n",
    "                            n_jobs=-1,class_weight='balanced',max_depth=15,max_features=15)\n",
    "model = VotingClassifier(estimators=[('dt', M2),('knn',M3),('rf',M4)], voting='hard')\n",
    "model.fit(X_train, y_train)\n",
    "# predicting the target varible from input variable of train data\n",
    "y_pred = model.predict(X_train)\n",
    "# predicting the target varible from input variable of test data\n",
    "y_pred_test = model.predict(X_test)\n",
    "print(\"F1 Score:\")\n",
    "F1_train=round(f1_score(y_train, y_pred,average='micro'),2)\n",
    "F1_test=round(f1_score(y_test, y_pred_test,average='micro'),2)\n",
    "print(\"TRAIN dataset :\",F1_train)\n",
    "print(\"TEST dataset  :\",F1_test)\n",
    "summary.loc[len(summary.index)] = ['MAx Voting ensemble',F1_train,F1_test] "
   ]
  },
  {
   "cell_type": "markdown",
   "id": "17513cc6",
   "metadata": {},
   "source": [
    "Using Max voting method and combinig all the four classfication models,F1_score of combined model is less than XGBoost model and better than KNN and Decision Tree model."
   ]
  },
  {
   "cell_type": "code",
   "execution_count": 11,
   "id": "d5637ee5",
   "metadata": {},
   "outputs": [
    {
     "name": "stdout",
     "output_type": "stream",
     "text": [
      "F1 Score:\n",
      "TRAIN dataset : 0.91\n",
      "TEST dataset  : 0.79\n"
     ]
    }
   ],
   "source": [
    "#choosing the hyperparameters based on dataset\n",
    "XGB = XGBClassifier(objective = 'multi:softmax', booster = 'gbtree',num_class = 3,\n",
    "                    eta = .1,max_depth = 10, colsample_bytree = .4, \n",
    "                    learning_rate = 0.1,max_delta_step=1)\n",
    "#fitting the train data input variables and target variables\n",
    "XGB.fit(X_train, y_train)\n",
    "# predicting the target varible from input variable of train data\n",
    "y_pred = XGB.predict(X_train)\n",
    "# predicting the target varible from input variable of test data\n",
    "y_pred_test = XGB.predict(X_test)\n",
    "print(\"F1 Score:\")\n",
    "F1_train=round(f1_score(y_train, y_pred,average='micro'),2)\n",
    "F1_test=round(f1_score(y_test, y_pred_test,average='micro'),2)\n",
    "print(\"TRAIN dataset :\",F1_train)\n",
    "print(\"TEST dataset  :\",F1_test)\n",
    "summary.loc[len(summary.index)] = ['XGboost',F1_train,F1_test] \n"
   ]
  },
  {
   "cell_type": "code",
   "execution_count": 12,
   "id": "f3393999",
   "metadata": {},
   "outputs": [
    {
     "name": "stdout",
     "output_type": "stream",
     "text": [
      "F1 Score:\n",
      "TRAIN dataset : 0.77\n",
      "TEST dataset  : 0.76\n"
     ]
    }
   ],
   "source": [
    "#choosing the hyperparameters based on dataset\n",
    "GBC=GradientBoostingClassifier(n_estimators=500,learning_rate=0.05,random_state=100,max_features=5 )\n",
    "#fitting the train data input variables and target variables\n",
    "GBC.fit(X_train, y_train)\n",
    "# predicting the target varible from input variable of train data\n",
    "y_pred = GBC.predict(X_train)\n",
    "# predicting the target varible from input variable of test data\n",
    "y_pred_test = GBC.predict(X_test)\n",
    "print(\"F1 Score:\")\n",
    "F1_train=round(f1_score(y_train, y_pred,average='micro'),2)\n",
    "F1_test=round(f1_score(y_test, y_pred_test,average='micro'),2)\n",
    "print(\"TRAIN dataset :\",F1_train)\n",
    "print(\"TEST dataset  :\",F1_test)\n",
    "summary.loc[len(summary.index)] = ['Gradient boost',F1_train,F1_test] "
   ]
  },
  {
   "cell_type": "code",
   "execution_count": 13,
   "id": "8f4d2738",
   "metadata": {},
   "outputs": [
    {
     "name": "stdout",
     "output_type": "stream",
     "text": [
      "F1 Score:\n",
      "TRAIN dataset : 0.79\n",
      "TEST dataset  : 0.77\n"
     ]
    }
   ],
   "source": [
    "#choosing the hyperparameters based on dataset\n",
    "LGBM = LGBMClassifier(max_depth = 10,colsample_bytree = .4,max_delta_step=1)\n",
    "#fitting the train data input variables and target variables\n",
    "LGBM.fit(X_train, y_train)\n",
    "# predicting the target varible from input variable of train data\n",
    "y_pred = LGBM.predict(X_train)\n",
    "# predicting the target varible from input variable of test data\n",
    "y_pred_test = LGBM.predict(X_test)\n",
    "print(\"F1 Score:\")\n",
    "F1_train=round(f1_score(y_train, y_pred,average='micro'),2)\n",
    "F1_test=round(f1_score(y_test, y_pred_test,average='micro'),2)\n",
    "print(\"TRAIN dataset :\",F1_train)\n",
    "print(\"TEST dataset  :\",F1_test)\n",
    "summary.loc[len(summary.index)] = ['Light GBM',F1_train,F1_test] "
   ]
  },
  {
   "cell_type": "code",
   "execution_count": 14,
   "id": "376e1681",
   "metadata": {
    "scrolled": true
   },
   "outputs": [
    {
     "data": {
      "text/html": [
       "<div>\n",
       "<style scoped>\n",
       "    .dataframe tbody tr th:only-of-type {\n",
       "        vertical-align: middle;\n",
       "    }\n",
       "\n",
       "    .dataframe tbody tr th {\n",
       "        vertical-align: top;\n",
       "    }\n",
       "\n",
       "    .dataframe thead th {\n",
       "        text-align: right;\n",
       "    }\n",
       "</style>\n",
       "<table border=\"1\" class=\"dataframe\">\n",
       "  <thead>\n",
       "    <tr style=\"text-align: right;\">\n",
       "      <th></th>\n",
       "      <th>Model</th>\n",
       "      <th>Train data_F1 score</th>\n",
       "      <th>Test data_F1score</th>\n",
       "    </tr>\n",
       "  </thead>\n",
       "  <tbody>\n",
       "    <tr>\n",
       "      <th>0</th>\n",
       "      <td>K Nearest Neighbours</td>\n",
       "      <td>0.75</td>\n",
       "      <td>0.68</td>\n",
       "    </tr>\n",
       "    <tr>\n",
       "      <th>1</th>\n",
       "      <td>Randomforest</td>\n",
       "      <td>0.87</td>\n",
       "      <td>0.74</td>\n",
       "    </tr>\n",
       "    <tr>\n",
       "      <th>2</th>\n",
       "      <td>Decision Tree</td>\n",
       "      <td>0.76</td>\n",
       "      <td>0.74</td>\n",
       "    </tr>\n",
       "    <tr>\n",
       "      <th>3</th>\n",
       "      <td>MAx Voting ensemble</td>\n",
       "      <td>0.82</td>\n",
       "      <td>0.77</td>\n",
       "    </tr>\n",
       "    <tr>\n",
       "      <th>4</th>\n",
       "      <td>XGboost</td>\n",
       "      <td>0.91</td>\n",
       "      <td>0.79</td>\n",
       "    </tr>\n",
       "    <tr>\n",
       "      <th>5</th>\n",
       "      <td>Gradient boost</td>\n",
       "      <td>0.77</td>\n",
       "      <td>0.76</td>\n",
       "    </tr>\n",
       "    <tr>\n",
       "      <th>6</th>\n",
       "      <td>Light GBM</td>\n",
       "      <td>0.79</td>\n",
       "      <td>0.77</td>\n",
       "    </tr>\n",
       "  </tbody>\n",
       "</table>\n",
       "</div>"
      ],
      "text/plain": [
       "                  Model  Train data_F1 score  Test data_F1score\n",
       "0  K Nearest Neighbours                 0.75               0.68\n",
       "1          Randomforest                 0.87               0.74\n",
       "2         Decision Tree                 0.76               0.74\n",
       "3   MAx Voting ensemble                 0.82               0.77\n",
       "4               XGboost                 0.91               0.79\n",
       "5        Gradient boost                 0.77               0.76\n",
       "6             Light GBM                 0.79               0.77"
      ]
     },
     "execution_count": 14,
     "metadata": {},
     "output_type": "execute_result"
    }
   ],
   "source": [
    "summary\n"
   ]
  },
  {
   "cell_type": "markdown",
   "id": "3a354834",
   "metadata": {},
   "source": [
    "Using the grid search best hyperparametes train_data F1_score of XGboost and Decision Tree are increased.Ensembling models Max voting and XGboost has better performance than the Decision Tree,KNN"
   ]
  },
  {
   "cell_type": "code",
   "execution_count": 15,
   "id": "d8274672",
   "metadata": {},
   "outputs": [
    {
     "name": "stdout",
     "output_type": "stream",
     "text": [
      "<class 'pandas.core.frame.DataFrame'>\n",
      "RangeIndex: 59400 entries, 0 to 59399\n",
      "Data columns (total 20 columns):\n",
      " #   Column                 Non-Null Count  Dtype  \n",
      "---  ------                 --------------  -----  \n",
      " 0   status_group           59400 non-null  int64  \n",
      " 1   funder                 59400 non-null  float64\n",
      " 2   gps_height             59400 non-null  int64  \n",
      " 3   longitude              59400 non-null  float64\n",
      " 4   latitude               59400 non-null  float64\n",
      " 5   basin                  59400 non-null  float64\n",
      " 6   district_code          59400 non-null  int64  \n",
      " 7   population             59400 non-null  int64  \n",
      " 8   public_meeting         59400 non-null  float64\n",
      " 9   scheme_name            59400 non-null  float64\n",
      " 10  permit                 59400 non-null  float64\n",
      " 11  construction_year      59400 non-null  int64  \n",
      " 12  extraction_type_class  59400 non-null  float64\n",
      " 13  management             59400 non-null  float64\n",
      " 14  payment                59400 non-null  float64\n",
      " 15  water_quality          59400 non-null  float64\n",
      " 16  quantity               59400 non-null  float64\n",
      " 17  source                 59400 non-null  float64\n",
      " 18  source_class           59400 non-null  float64\n",
      " 19  waterpoint_type        59400 non-null  float64\n",
      "dtypes: float64(15), int64(5)\n",
      "memory usage: 9.1 MB\n"
     ]
    }
   ],
   "source": [
    "data.info()"
   ]
  },
  {
   "cell_type": "markdown",
   "id": "28ffa15e",
   "metadata": {},
   "source": [
    "# Feature importance and ranking "
   ]
  },
  {
   "cell_type": "code",
   "execution_count": 16,
   "id": "7a58d88c",
   "metadata": {},
   "outputs": [
    {
     "data": {
      "text/plain": [
       "<AxesSubplot:>"
      ]
     },
     "execution_count": 16,
     "metadata": {},
     "output_type": "execute_result"
    },
    {
     "data": {
      "image/png": "[encoded data removed]",
      "text/plain": [
       "<Figure size 432x288 with 1 Axes>"
      ]
     },
     "metadata": {
      "needs_background": "light"
     },
     "output_type": "display_data"
    }
   ],
   "source": [
    "rf = RandomForestRegressor(n_estimators=150)\n",
    "rf.fit(X_train, y_train)\n",
    "importances = rf.feature_importances_\n",
    "df=pd.DataFrame({\"features\":pd.DataFrame(X_train).columns,\"importance\":importances})\n",
    "df.set_index('importance')\n",
    "df=df.sort_values('importance')\n",
    "df.plot.bar(color='teal')\n"
   ]
  },
  {
   "cell_type": "markdown",
   "id": "bba6eb62",
   "metadata": {},
   "source": [
    "Random forest Regressor are used for ranking the features.features are plotted in increasing order in the above bar graph with column numbers.Only high importance features are selected for improving the performance"
   ]
  },
  {
   "cell_type": "code",
   "execution_count": 17,
   "id": "dc5b2f4d",
   "metadata": {},
   "outputs": [],
   "source": [
    "X1=data.iloc[:,[12,16,8,13,3,2,11,0,18,15,4,14]] # selecting columns with highest importance\n",
    "X_train, X_test, y_train, y_test = train_test_split(X1, y, test_size=0.2, random_state=5)"
   ]
  },
  {
   "cell_type": "code",
   "execution_count": 18,
   "id": "05c1dcdc",
   "metadata": {},
   "outputs": [
    {
     "name": "stdout",
     "output_type": "stream",
     "text": [
      "F1 Score:\n",
      "TRAIN dataset : 0.87\n",
      "TEST dataset  : 0.83\n"
     ]
    }
   ],
   "source": [
    "KN = KNeighborsClassifier(7) # no.of neighbours chosen are 7\n",
    "#fitting the train data input variables and target variables\n",
    "KN.fit(X_train, y_train)\n",
    "# predicting the target varible from input variable of train data\n",
    "y_pred = KN.predict(X_train)\n",
    "y_pred_test = KN.predict(X_test)\n",
    "print(\"F1 Score:\")\n",
    "F1_train=round(f1_score(y_train, y_pred,average='micro'),2)\n",
    "F1_test=round(f1_score(y_test, y_pred_test,average='micro'),2)\n",
    "print(\"TRAIN dataset :\",F1_train)\n",
    "print(\"TEST dataset  :\",F1_test)\n"
   ]
  },
  {
   "cell_type": "markdown",
   "id": "f3d9e04e",
   "metadata": {},
   "source": [
    "Principal Component Analysis: Before performing PCA columns has to be standardized"
   ]
  },
  {
   "cell_type": "code",
   "execution_count": 30,
   "id": "5455cf19",
   "metadata": {},
   "outputs": [
    {
     "name": "stdout",
     "output_type": "stream",
     "text": [
      "[0.15521992 0.09066279 0.07652954 0.06899559 0.06054707 0.0573942\n",
      " 0.05459937 0.0531538  0.05004407 0.04777098 0.04166218 0.03970039\n",
      " 0.0376842  0.03466481 0.03316739 0.02975927 0.02587459 0.02426323\n",
      " 0.01830658]\n"
     ]
    }
   ],
   "source": [
    "stand = StandardScaler()\n",
    "train_stand=pd.DataFrame(stand.fit_transform(X), columns=X.columns)\n",
    "pca = PCA()\n",
    "df_pca = pd.DataFrame(pca.fit_transform(train_stand))\n",
    "variance=pca.explained_variance_ratio_\n",
    "print(variance)\n"
   ]
  },
  {
   "cell_type": "code",
   "execution_count": 31,
   "id": "d8740938",
   "metadata": {},
   "outputs": [
    {
     "data": {
      "image/png": "[encoded data removed]",
      "text/plain": [
       "<Figure size 432x288 with 1 Axes>"
      ]
     },
     "metadata": {
      "needs_background": "light"
     },
     "output_type": "display_data"
    }
   ],
   "source": [
    "pd.DataFrame(pca.explained_variance_ratio_).plot.bar()\n",
    "plt.legend('')\n",
    "plt.xlabel('Principal Components')\n",
    "plt.ylabel('Varience');"
   ]
  },
  {
   "cell_type": "markdown",
   "id": "b92c2216",
   "metadata": {},
   "source": [
    "Selecting the top 12 principal components with max variance"
   ]
  },
  {
   "cell_type": "code",
   "execution_count": 32,
   "id": "545c9829",
   "metadata": {},
   "outputs": [],
   "source": [
    "pca = PCA(n_components=12) # selecting 12 principal components\n",
    "X_new = pca.fit_transform(df_pca)\n",
    "X_train, X_test, y_train, y_test = train_test_split(X_new, y, test_size=0.2, random_state=5)\n"
   ]
  },
  {
   "cell_type": "code",
   "execution_count": 33,
   "id": "2d145c4c",
   "metadata": {},
   "outputs": [
    {
     "name": "stdout",
     "output_type": "stream",
     "text": [
      "F1 Score:\n",
      "TRAIN dataset : 0.79\n",
      "TEST dataset  : 0.74\n"
     ]
    }
   ],
   "source": [
    "KN = KNeighborsClassifier(7) # no.of neighbours chosen are 7\n",
    "#fitting the train data input variables and target variables\n",
    "KN.fit(X_train, y_train)\n",
    "# predicting the target varible from input variable of train data\n",
    "y_pred = KN.predict(X_train)\n",
    "y_pred_test = KN.predict(X_test)\n",
    "print(\"F1 Score:\")\n",
    "F1_train=round(f1_score(y_train, y_pred,average='micro'),2)\n",
    "F1_test=round(f1_score(y_test, y_pred_test,average='micro'),2)\n",
    "print(\"TRAIN dataset :\",F1_train)\n",
    "print(\"TEST dataset  :\",F1_test)"
   ]
  },
  {
   "cell_type": "code",
   "execution_count": null,
   "id": "b23fca86",
   "metadata": {},
   "outputs": [],
   "source": []
  }
 ],
 "metadata": {
  "kernelspec": {
   "display_name": "Python 3",
   "language": "python",
   "name": "python3"
  },
  "language_info": {
   "codemirror_mode": {
    "name": "ipython",
    "version": 3
   },
   "file_extension": ".py",
   "mimetype": "text/x-python",
   "name": "python",
   "nbconvert_exporter": "python",
   "pygments_lexer": "ipython3",
   "version": "3.8.8"
  }
 },
 "nbformat": 4,
 "nbformat_minor": 5
}
